{
 "cells": [
  {
   "cell_type": "markdown",
   "metadata": {},
   "source": [
    "### Example of how to control the El-Flow units"
   ]
  },
  {
   "cell_type": "code",
   "execution_count": 1,
   "metadata": {},
   "outputs": [],
   "source": [
    "from Control import *"
   ]
  },
  {
   "cell_type": "markdown",
   "metadata": {},
   "source": [
    "This opens a communication channel with the Flow Control Unit.\n",
    "This connection is mutually exclusive with FlowDDE so make sure to close FlowDDE or at least close Communication, before trying to open a connection"
   ]
  },
  {
   "cell_type": "code",
   "execution_count": 2,
   "metadata": {},
   "outputs": [],
   "source": [
    "ser = serial.Serial('COM3', 38400, timeout=2)"
   ]
  },
  {
   "cell_type": "markdown",
   "metadata": {},
   "source": [
    "node-id's in this list are ordered like their Flow Units in real world.\n",
    "Should the order change for some reason, you can look up Unit ids in Bronkhorst Flowview under \"Advanced\"\n",
    "To do this:\n",
    "1. start Bronkhorst FlowDDE and \"Open Communication\" under \"Communication\"\n",
    "2. open FlowView and manually increase the setpoints to see which Channel corresponds to which Unit. (Note the channels are not ordered)\n",
    "3. open the Advanced tab and write down the Node-ids for all units (They are displayed at the top like \"Node 3\")"
   ]
  },
  {
   "cell_type": "code",
   "execution_count": 3,
   "metadata": {},
   "outputs": [],
   "source": [
    "nodes = [4,5,10,6,3]"
   ]
  },
  {
   "cell_type": "markdown",
   "metadata": {},
   "source": [
    "Setpoints determines rate of flow, with 100 being max flow and 0 being now flow.\n",
    "remember to set Flow for all Nodes to 0 before closing connection, since They Units will stay open even without a connection."
   ]
  },
  {
   "cell_type": "code",
   "execution_count": 4,
   "metadata": {},
   "outputs": [],
   "source": [
    "setpoint_write(ser, 45, nodes[0])\n",
    "setpoint_write(ser, 30, nodes[2])\n",
    "setpoint_write(ser, 45, nodes[4])"
   ]
  },
  {
   "cell_type": "code",
   "execution_count": 5,
   "metadata": {},
   "outputs": [],
   "source": [
    "for node in nodes:\n",
    "    setpoint_write(ser, 0, node)"
   ]
  },
  {
   "cell_type": "markdown",
   "metadata": {},
   "source": [
    "Remember to close your connection at the end of your code, since not doing so will block other connection to the Flow Control Unit, although the garbage collector will eventually close it for you if you don't."
   ]
  },
  {
   "cell_type": "code",
   "execution_count": 6,
   "metadata": {},
   "outputs": [],
   "source": [
    "ser.close()"
   ]
  },
  {
   "cell_type": "code",
   "execution_count": null,
   "metadata": {},
   "outputs": [],
   "source": []
  },
  {
   "cell_type": "code",
   "execution_count": null,
   "metadata": {},
   "outputs": [],
   "source": []
  }
 ],
 "metadata": {
  "kernelspec": {
   "display_name": "Python 3",
   "language": "python",
   "name": "python3"
  },
  "language_info": {
   "codemirror_mode": {
    "name": "ipython",
    "version": 3
   },
   "file_extension": ".py",
   "mimetype": "text/x-python",
   "name": "python",
   "nbconvert_exporter": "python",
   "pygments_lexer": "ipython3",
   "version": "3.8.5"
  }
 },
 "nbformat": 4,
 "nbformat_minor": 4
}
